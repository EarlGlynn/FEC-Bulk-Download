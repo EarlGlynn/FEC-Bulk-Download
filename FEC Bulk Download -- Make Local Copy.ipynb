{
 "cells": [
  {
   "cell_type": "code",
   "execution_count": 1,
   "metadata": {},
   "outputs": [
    {
     "name": "stdout",
     "output_type": "stream",
     "text": [
      "2019-11-29 22-48-22\n"
     ]
    }
   ],
   "source": [
    "import datetime\n",
    "startTime = datetime.datetime.now()\n",
    "print(startTime.strftime(\"%Y-%m-%d %H-%M-%S\"))"
   ]
  },
  {
   "cell_type": "markdown",
   "metadata": {},
   "source": [
    "# FEC Bulk Downloads\n",
    "\n",
    "## AWS setup info"
   ]
  },
  {
   "cell_type": "code",
   "execution_count": 2,
   "metadata": {},
   "outputs": [],
   "source": [
    "REGION  = \"us-gov-west-1\"\n",
    "FECBULK = \"s3://cg-519a459a-0ea3-42c2-b7bc-fa1143481f74/bulk-downloads\""
   ]
  },
  {
   "cell_type": "markdown",
   "metadata": {},
   "source": [
    "## Save list of FEC Bulk Download folders and files in a file\n",
    "\n",
    "This list of nearly 30,000 files is quite useful for future `diff`s to determine what has changed on the site and when."
   ]
  },
  {
   "cell_type": "code",
   "execution_count": 3,
   "metadata": {},
   "outputs": [],
   "source": [
    "!aws2 --region $REGION s3 ls $FECBULK/ --recursive --no-sign-request  > FEC-Bulk-Download-List.txt"
   ]
  },
  {
   "cell_type": "markdown",
   "metadata": {},
   "source": [
    "Read and display partial results"
   ]
  },
  {
   "cell_type": "code",
   "execution_count": 4,
   "metadata": {},
   "outputs": [],
   "source": [
    "import pandas as pd\n",
    "import numpy as np\n",
    "\n",
    "columnBreaks = [(0, 19), (20, 30), (31, 120)]\n",
    "columnNames  = [\"DateTime\", \"Bytes\", \"Filename\"]\n",
    "columnTypes  = {\"DateTime\": np.object, \"Bytes\": np.int64, \"Filename\": np.object}\n",
    "    \n",
    "data = pd.read_fwf('FEC-Bulk-Download-List.txt', \n",
    "                   header   = None,\n",
    "                   names    = columnNames,\n",
    "                   colspecs = columnBreaks,\n",
    "                   dtype    = columnTypes,\n",
    "                   parse_dates = [0], \n",
    "                   infer_datetime_format = True)"
   ]
  },
  {
   "cell_type": "code",
   "execution_count": 5,
   "metadata": {},
   "outputs": [
    {
     "data": {
      "text/html": [
       "<div>\n",
       "<style scoped>\n",
       "    .dataframe tbody tr th:only-of-type {\n",
       "        vertical-align: middle;\n",
       "    }\n",
       "\n",
       "    .dataframe tbody tr th {\n",
       "        vertical-align: top;\n",
       "    }\n",
       "\n",
       "    .dataframe thead th {\n",
       "        text-align: right;\n",
       "    }\n",
       "</style>\n",
       "<table border=\"1\" class=\"dataframe\">\n",
       "  <thead>\n",
       "    <tr style=\"text-align: right;\">\n",
       "      <th></th>\n",
       "      <th>DateTime</th>\n",
       "      <th>Bytes</th>\n",
       "      <th>Filename</th>\n",
       "    </tr>\n",
       "  </thead>\n",
       "  <tbody>\n",
       "    <tr>\n",
       "      <th>0</th>\n",
       "      <td>2017-08-31 13:19:38</td>\n",
       "      <td>239793</td>\n",
       "      <td>bulk-downloads/1978/can78.txt</td>\n",
       "    </tr>\n",
       "    <tr>\n",
       "      <th>1</th>\n",
       "      <td>2017-08-31 13:19:38</td>\n",
       "      <td>4394124</td>\n",
       "      <td>bulk-downloads/1978/pac78.txt</td>\n",
       "    </tr>\n",
       "    <tr>\n",
       "      <th>2</th>\n",
       "      <td>2017-08-31 13:20:47</td>\n",
       "      <td>1540</td>\n",
       "      <td>bulk-downloads/1980/Old Format/cm80.txt</td>\n",
       "    </tr>\n",
       "    <tr>\n",
       "      <th>3</th>\n",
       "      <td>2017-08-31 13:20:47</td>\n",
       "      <td>429965</td>\n",
       "      <td>bulk-downloads/1980/Old Format/cm80.zip</td>\n",
       "    </tr>\n",
       "    <tr>\n",
       "      <th>4</th>\n",
       "      <td>2017-08-31 13:20:48</td>\n",
       "      <td>1590</td>\n",
       "      <td>bulk-downloads/1980/Old Format/cn80.txt</td>\n",
       "    </tr>\n",
       "    <tr>\n",
       "      <th>5</th>\n",
       "      <td>2017-08-31 13:20:48</td>\n",
       "      <td>155689</td>\n",
       "      <td>bulk-downloads/1980/Old Format/cn80.zip</td>\n",
       "    </tr>\n",
       "    <tr>\n",
       "      <th>6</th>\n",
       "      <td>2017-08-31 13:20:48</td>\n",
       "      <td>1066208</td>\n",
       "      <td>bulk-downloads/1980/cansum80.dat</td>\n",
       "    </tr>\n",
       "    <tr>\n",
       "      <th>7</th>\n",
       "      <td>2017-08-31 13:20:49</td>\n",
       "      <td>3165</td>\n",
       "      <td>bulk-downloads/1980/cansum80.txt</td>\n",
       "    </tr>\n",
       "    <tr>\n",
       "      <th>8</th>\n",
       "      <td>2017-08-31 13:20:49</td>\n",
       "      <td>159883</td>\n",
       "      <td>bulk-downloads/1980/cansum80.zip</td>\n",
       "    </tr>\n",
       "    <tr>\n",
       "      <th>9</th>\n",
       "      <td>2017-08-31 13:20:49</td>\n",
       "      <td>1540</td>\n",
       "      <td>bulk-downloads/1980/cm80.txt</td>\n",
       "    </tr>\n",
       "  </tbody>\n",
       "</table>\n",
       "</div>"
      ],
      "text/plain": [
       "             DateTime    Bytes                                 Filename\n",
       "0 2017-08-31 13:19:38   239793            bulk-downloads/1978/can78.txt\n",
       "1 2017-08-31 13:19:38  4394124            bulk-downloads/1978/pac78.txt\n",
       "2 2017-08-31 13:20:47     1540  bulk-downloads/1980/Old Format/cm80.txt\n",
       "3 2017-08-31 13:20:47   429965  bulk-downloads/1980/Old Format/cm80.zip\n",
       "4 2017-08-31 13:20:48     1590  bulk-downloads/1980/Old Format/cn80.txt\n",
       "5 2017-08-31 13:20:48   155689  bulk-downloads/1980/Old Format/cn80.zip\n",
       "6 2017-08-31 13:20:48  1066208         bulk-downloads/1980/cansum80.dat\n",
       "7 2017-08-31 13:20:49     3165         bulk-downloads/1980/cansum80.txt\n",
       "8 2017-08-31 13:20:49   159883         bulk-downloads/1980/cansum80.zip\n",
       "9 2017-08-31 13:20:49     1540             bulk-downloads/1980/cm80.txt"
      ]
     },
     "execution_count": 5,
     "metadata": {},
     "output_type": "execute_result"
    }
   ],
   "source": [
    "data.head(10) "
   ]
  },
  {
   "cell_type": "code",
   "execution_count": 6,
   "metadata": {},
   "outputs": [
    {
     "data": {
      "text/plain": [
       "DateTime    datetime64[ns]\n",
       "Bytes                int64\n",
       "Filename            object\n",
       "dtype: object"
      ]
     },
     "execution_count": 6,
     "metadata": {},
     "output_type": "execute_result"
    }
   ],
   "source": [
    "data.dtypes"
   ]
  },
  {
   "cell_type": "markdown",
   "metadata": {},
   "source": [
    "## Save local copy in folder K:/FEC\n",
    "\n",
    "This will download over 29,600 files that will require about 62 GB of disk space."
   ]
  },
  {
   "cell_type": "code",
   "execution_count": 7,
   "metadata": {},
   "outputs": [],
   "source": [
    "!aws2 --region $REGION s3 cp --recursive $FECBULK/ --no-sign-request K:/FEC/  > FEC-Bulk-Download.log"
   ]
  },
  {
   "cell_type": "code",
   "execution_count": 8,
   "metadata": {},
   "outputs": [
    {
     "name": "stdout",
     "output_type": "stream",
     "text": [
      "2019-11-30 00-24-40\n",
      "1:36:18.152291\n"
     ]
    }
   ],
   "source": [
    "stopTime = datetime.datetime.now()\n",
    "print(stopTime.strftime(\"%Y-%m-%d %H-%M-%S\"))\n",
    "print(stopTime - startTime)"
   ]
  },
  {
   "cell_type": "markdown",
   "metadata": {},
   "source": [
    "#### Earl F Glynn, Olathe, KS"
   ]
  }
 ],
 "metadata": {
  "kernelspec": {
   "display_name": "Python 3",
   "language": "python",
   "name": "python3"
  },
  "language_info": {
   "codemirror_mode": {
    "name": "ipython",
    "version": 3
   },
   "file_extension": ".py",
   "mimetype": "text/x-python",
   "name": "python",
   "nbconvert_exporter": "python",
   "pygments_lexer": "ipython3",
   "version": "3.7.3"
  }
 },
 "nbformat": 4,
 "nbformat_minor": 2
}
