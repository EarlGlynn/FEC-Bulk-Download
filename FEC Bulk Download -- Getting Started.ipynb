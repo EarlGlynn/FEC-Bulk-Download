{
 "cells": [
  {
   "cell_type": "code",
   "execution_count": 1,
   "metadata": {},
   "outputs": [
    {
     "name": "stdout",
     "output_type": "stream",
     "text": [
      "2019-11-29 20-53-43\n"
     ]
    }
   ],
   "source": [
    "import datetime\n",
    "startTime = datetime.datetime.now()\n",
    "print(startTime.strftime(\"%Y-%m-%d %H-%M-%S\"))"
   ]
  },
  {
   "cell_type": "markdown",
   "metadata": {},
   "source": [
    "# Historical Background"
   ]
  },
  {
   "cell_type": "markdown",
   "metadata": {},
   "source": [
    "The *Wayback Machine* shows the contents of [`www.fec.gov/finance/disclosure/ftpdet.shtml`](https://web.archive.org/web/*/www.fec.gov/finance/disclosure/ftpdet.shtml) back to 2004 when in early years the FTP site was at `ftp://ftp.fec.gov/FEC/`. Anonymous FTP and tools like `wget` were quite convenient to grab any or all of the contents.\n",
    "\n",
    "The `ftpdet.shtml` web page was quite useful until roughly June 2017 when the link went stale, and by July 2017 was redirected to the now \"classic\" version:  [http://classic.fec.gov/finance/disclosure/ftpdet.shtml](http://classic.fec.gov/finance/disclosure/ftpdet.shtml) but with files still on the same FTP server.\n",
    "\n",
    "## Amazon-hosted bulk downloads\n",
    "\n",
    "The \"classic\" `ftpdet.shtml` page still exist as of this writing (2019-11-29), but by Feb. 2018 the original FTP server was replaced with hosting on Amazon with quite long base links: `https://web.archive.org/web/20180221210046/https://cg-519a459a-0ea3-42c2-b7bc-fa1143481f74.s3-us-gov-west-1.amazonaws.com/bulk-downloads/`.  \n",
    "\n",
    "Anonymous FTP and `wget` commands no longer worked to transfer files from the AWS-hosted site.  A Feb. 2018 posting on  the [FEC GitHub page](https://github.com/fecgov/) described [Retrieving S3 bulk download files](https://github.com/fecgov/fec-cms/wiki/Retrieving-S3-bulk-download-files).  The posting described the AWS CLI tool for downloading bulk data, but the [AWS Command Line Interface](https://docs.aws.amazon.com/cli/latest/userguide/cli-chap-install.html) link suggest the original `aws` command-line tool has been superceded with a newer `aws2` tool by Nov. 2019.  \n",
    "\n",
    "## AWS CLI version 2\n",
    "\n",
    "Here is the AWS link for [Installing the AWS CLI version 2](https://docs.aws.amazon.com/cli/latest/userguide/install-cliv2.html).  Linix probably works best for this, but I installed the tool in Windows 10.  The default installation put the tool in the PATH."
   ]
  },
  {
   "cell_type": "code",
   "execution_count": 2,
   "metadata": {},
   "outputs": [
    {
     "name": "stdout",
     "output_type": "stream",
     "text": [
      "C:\\Program Files\\Amazon\\AWSCLIV2DevPreview\\aws2.exe\n"
     ]
    }
   ],
   "source": [
    "!where aws2"
   ]
  },
  {
   "cell_type": "markdown",
   "metadata": {},
   "source": [
    "To learn more about the tool:  `aws2 help`"
   ]
  },
  {
   "cell_type": "code",
   "execution_count": 3,
   "metadata": {
    "scrolled": true
   },
   "outputs": [
    {
     "name": "stdout",
     "output_type": "stream",
     "text": [
      "aws-cli/2.0.0dev1 Python/3.7.5 Windows/10 botocore/2.0.0dev1\n"
     ]
    }
   ],
   "source": [
    "!aws2 --version"
   ]
  },
  {
   "cell_type": "markdown",
   "metadata": {},
   "source": [
    "The instructions on the FEC GitHub page worked fine replacing `aws` with `aws2`."
   ]
  },
  {
   "cell_type": "markdown",
   "metadata": {},
   "source": [
    "# FEC Bulk Downloads\n",
    "\n",
    "## AWS setup info"
   ]
  },
  {
   "cell_type": "code",
   "execution_count": 4,
   "metadata": {},
   "outputs": [],
   "source": [
    "REGION  = \"us-gov-west-1\"\n",
    "FECBULK = \"s3://cg-519a459a-0ea3-42c2-b7bc-fa1143481f74/bulk-downloads\""
   ]
  },
  {
   "cell_type": "markdown",
   "metadata": {},
   "source": [
    "## Show high-level view of FEC Bulk Download folders and files\n",
    "\n",
    "Let use the Linux `ls` command to list the files in the `2020` folder:"
   ]
  },
  {
   "cell_type": "code",
   "execution_count": 5,
   "metadata": {},
   "outputs": [
    {
     "name": "stdout",
     "output_type": "stream",
     "text": [
      "                           PRE 1978/\n",
      "                           PRE 1980/\n",
      "                           PRE 1982/\n",
      "                           PRE 1984/\n",
      "                           PRE 1986/\n",
      "                           PRE 1988/\n",
      "                           PRE 1990/\n",
      "                           PRE 1992/\n",
      "                           PRE 1994/\n",
      "                           PRE 1996/\n",
      "                           PRE 1998/\n",
      "                           PRE 2000/\n",
      "                           PRE 2002/\n",
      "                           PRE 2004/\n",
      "                           PRE 2006/\n",
      "                           PRE 2008/\n",
      "                           PRE 2010/\n",
      "                           PRE 2012/\n",
      "                           PRE 2014/\n",
      "                           PRE 2016/\n",
      "                           PRE 2018/\n",
      "                           PRE 2020/\n",
      "                           PRE 2022/\n",
      "                           PRE 2024/\n",
      "                           PRE Presidential_Map/\n",
      "                           PRE data.fec.gov/\n",
      "                           PRE data_dictionaries/\n",
      "                           PRE electronic/\n",
      "                           PRE fecviewer/\n",
      "                           PRE paper/\n",
      "                           PRE presidential/\n",
      "                           PRE presidential_matching_funds/\n",
      "                           PRE press/\n",
      "2019-11-29 04:01:08     549601 ec_table.inc\n",
      "2019-11-29 04:01:10     570190 electioneering.csv\n",
      "2019-11-28 23:31:49      33458 foia_files_summary.xml\n",
      "2019-11-29 04:35:54      65899 hybrid_pac.inc\n",
      "2019-11-29 04:35:52     205350 ie_nm.inc\n",
      "2019-11-29 04:35:52     205350 ie_tp.inc\n",
      "2019-11-29 04:35:37     235949 ieoc_alpha.inc\n",
      "2017-08-28 20:02:53        541 index.html\n",
      "2018-03-31 07:51:12        524 index2.html\n",
      "2019-04-01 09:43:48   16087997 leadership pac disbursements 2013-2019 20190329.xlsx\n",
      "2019-04-01 09:54:58   16087997 leadership_pac_disbursements_2013-2019 20190329.xlsx\n",
      "2019-11-29 04:35:35     957988 leadership_pacs.inc\n",
      "2017-11-03 09:37:24       8123 list.js\n",
      "2019-11-29 04:35:30     801244 lobbyist_table.csv\n",
      "2019-11-29 04:35:32    2107769 lobbyist_table.inc\n",
      "2019-11-29 04:35:34    2367007 lobbyist_table.xml\n",
      "2019-11-29 04:35:53     178773 lobbyist_table_xml.zip\n",
      "2019-11-29 04:35:44    5835759 new_f1dt.inc\n",
      "2019-11-29 04:35:49    5835759 new_f1nm.inc\n",
      "2019-11-29 04:35:50    5835759 new_f1tp.inc\n",
      "2019-11-29 04:35:43        104 pres_f1_date.html\n",
      "2019-11-29 04:35:42       1451 pres_f1dt.inc\n",
      "2019-11-29 04:35:42       1434 pres_f1nm.inc\n",
      "2019-11-29 04:35:43        104 pres_f2_date.html\n",
      "2019-11-29 04:35:38     495630 pres_f2dt.inc\n",
      "2019-11-29 04:35:40     495613 pres_f2nm.inc\n",
      "2019-11-29 04:35:40     495629 pres_f2pty.inc\n"
     ]
    }
   ],
   "source": [
    "!aws2 --region $REGION s3 ls $FECBULK/ --no-sign-request"
   ]
  },
  {
   "cell_type": "markdown",
   "metadata": {},
   "source": [
    "## Show list of files in the 2020 directory"
   ]
  },
  {
   "cell_type": "code",
   "execution_count": 6,
   "metadata": {},
   "outputs": [
    {
     "name": "stdout",
     "output_type": "stream",
     "text": [
      "2019-11-29 04:28:03    4350962 2020_HOUSE_SENATE_CAMPAIGNS_DOWNLOAD.csv\n",
      "2019-11-29 04:28:08    1189380 2020_INDEPENDENT_EXPENDITURE_DOWNLOAD.csv\n",
      "2019-11-29 04:28:08   11150748 2020_PAC_DOWNLOAD.csv\n",
      "2019-11-29 04:28:11    1580624 2020_PARTY_DOWNLOAD.csv\n",
      "2019-11-29 04:28:11     270837 2020_PRESIDENTIAL_CAMPAIGNS_DOWNLOAD.csv\n",
      "2019-11-29 04:11:32       2827 CommunicationCosts_2020.csv\n",
      "2019-11-29 04:11:33       2876 ElectioneeringComm_2020.csv\n",
      "2019-11-29 04:11:33     746429 Form1Filer_2020.csv\n",
      "2019-11-29 04:11:35     534861 Form2Filer_2020.csv\n",
      "2019-11-29 04:10:32     360613 candidate_summary2020.zip\n",
      "2019-11-29 04:11:36    1306425 candidate_summary_2020.csv\n",
      "2019-11-29 04:10:33     120759 candidate_summary_grid2020.zip\n",
      "2019-11-28 23:32:25      59595 ccl20.zip\n",
      "2019-11-29 04:26:51    3243203 ccsummary2020.zip\n",
      "2019-11-29 04:26:55     771225 ccsummary_grid2020.zip\n",
      "2019-11-28 23:32:22     629854 cm20.zip\n",
      "2019-11-28 23:32:16     209463 cn20.zip\n",
      "2019-11-29 04:10:33    1703635 committee_summary2020.zip\n",
      "2019-11-29 04:11:37    5893451 committee_summary_2020.csv\n",
      "2019-11-29 04:10:35     420155 committee_summary_grid2020.zip\n",
      "2019-11-29 04:11:39       5523 ec_exp_2020.csv\n",
      "2019-11-29 04:11:39     953902 independent_expenditure_2020.csv\n",
      "2019-11-24 14:44:42  492945822 indiv20.zip\n",
      "2019-11-29 04:11:40      89836 leadership2020.csv\n",
      "2019-11-24 14:47:23   16468994 oppexp20.zip\n",
      "2019-11-24 14:46:28   14531508 oth20.zip\n",
      "2019-11-24 14:45:34    3540394 pas220.zip\n",
      "2017-08-31 13:28:34         71 readme_future_election_cycle_folders.txt\n",
      "2019-11-28 23:32:02     123445 weball20.zip\n",
      "2019-11-28 23:32:12     316693 webk20.zip\n",
      "2019-11-28 23:31:56      76539 webl20.zip\n"
     ]
    }
   ],
   "source": [
    "!aws2 --region $REGION s3 ls $FECBULK/2020/ --no-sign-request"
   ]
  },
  {
   "cell_type": "markdown",
   "metadata": {},
   "source": [
    "## Save files from 1980 directory locally in K:/TEMP/1980\n",
    "\n",
    "Use Linux-like `cp` (copy) command.\n",
    "\n",
    "Let's use 1980 since it's a fairly small folder.  Let's save log of transfers."
   ]
  },
  {
   "cell_type": "code",
   "execution_count": 7,
   "metadata": {},
   "outputs": [],
   "source": [
    "!aws2 --region $REGION s3 cp --recursive $FECBULK/1980/ --no-sign-request K:/Temp/1980/  > 1980-Download.log"
   ]
  },
  {
   "cell_type": "markdown",
   "metadata": {},
   "source": [
    "## Save files from selected directories locally in K:/TEMP"
   ]
  },
  {
   "cell_type": "markdown",
   "metadata": {},
   "source": [
    "Save files from two selected folders locally in K:/TEMP/"
   ]
  },
  {
   "cell_type": "code",
   "execution_count": 8,
   "metadata": {},
   "outputs": [],
   "source": [
    "directoryList = ['1978', 'data_dictionaries']"
   ]
  },
  {
   "cell_type": "code",
   "execution_count": 9,
   "metadata": {},
   "outputs": [
    {
     "name": "stdout",
     "output_type": "stream",
     "text": [
      "1978\n",
      "data_dictionaries\n"
     ]
    }
   ],
   "source": [
    "for dir in directoryList:\n",
    "    print(dir)\n",
    "    !aws2 --region $REGION s3 cp --recursive $FECBULK/$dir/ --no-sign-request K:/Temp/$dir/  > $dir-Download.log"
   ]
  },
  {
   "cell_type": "code",
   "execution_count": 10,
   "metadata": {},
   "outputs": [
    {
     "name": "stdout",
     "output_type": "stream",
     "text": [
      "2019-11-29 20-53-54\n",
      "0:00:11.003393\n"
     ]
    }
   ],
   "source": [
    "stopTime = datetime.datetime.now()\n",
    "print(stopTime.strftime(\"%Y-%m-%d %H-%M-%S\"))\n",
    "print(stopTime - startTime)"
   ]
  },
  {
   "cell_type": "markdown",
   "metadata": {},
   "source": [
    "#### Earl F Glynn, Olathe, KS"
   ]
  }
 ],
 "metadata": {
  "kernelspec": {
   "display_name": "Python 3",
   "language": "python",
   "name": "python3"
  },
  "language_info": {
   "codemirror_mode": {
    "name": "ipython",
    "version": 3
   },
   "file_extension": ".py",
   "mimetype": "text/x-python",
   "name": "python",
   "nbconvert_exporter": "python",
   "pygments_lexer": "ipython3",
   "version": "3.7.3"
  }
 },
 "nbformat": 4,
 "nbformat_minor": 2
}
